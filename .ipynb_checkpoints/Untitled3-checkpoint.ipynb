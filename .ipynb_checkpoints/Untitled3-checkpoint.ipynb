{
 "cells": [
  {
   "cell_type": "code",
   "execution_count": 1,
   "id": "a66fdd66",
   "metadata": {},
   "outputs": [],
   "source": [
    "#1 etape: on imorte les bibliotheques et les modules\n",
    "import numpy as np\n",
    "import pandas as pd\n",
    "\n",
    "import tensorflow as tf\n",
    "from matplotlib import pyplot as plt\n",
    "%matplotlib inline\n",
    "import cv2\n",
    "import shutil\n",
    "import os\n",
    "from keras.utils import np_utils\n",
    "from keras import backend as K\n",
    "from keras.preprocessing import image\n",
    "from keras.preprocessing.image import ImageDataGenerator"
   ]
  },
  {
   "cell_type": "code",
   "execution_count": 2,
   "id": "ff0fcb84",
   "metadata": {},
   "outputs": [],
   "source": [
    "# 2 etape:load data\n",
    "#leafsnap = 'leafsnap-dataset'\n",
    "df='dataset-Maroc/dataset' #le chemin de donnees"
   ]
  },
  {
   "cell_type": "code",
   "execution_count": 3,
   "id": "f1bb6ded",
   "metadata": {},
   "outputs": [],
   "source": [
    "#3 etape : traitement de donnees\n",
    "#on cree un tableau contients noms des especes des arbres\n",
    "classes=[\"acer_rubrum\",\"aesculus_flava\",\"aesculus_pavi\",\"betula_jacqemontii\",\n",
    "         \"betula_lenta\",\"betula_populifolia\",\"carya_glabra\",\"carya_ovata\",\n",
    "         \"carya_tomentosa\",\"diospyros_virginiana\",\"eucommia_ulmoides\",\n",
    "         \"evodia_daniellii\",\"fagus_grandifolia\",\"ficus_carica\",\"fraxinus_americana\",\n",
    "         \"ginkgo_biloba\",\"gleditsia_triacanthos\",\"gymnocladus_dioicus\",\"halesia_tetraptera\",\"ilex_opaca\",\n",
    "         \"juglans_cinerea\",\"juglans_nigra\",\"juniperus_virginiana\",\"koelreuteria_paniculata\",\n",
    "         \"larix_decidua\",\"liquidambar_styraciflua\",\"liriodendron_tulipifera\",\"maclura_pomifera\",\n",
    "         \"magnolia_acuminata\",\"nyssa_sylvatica\",\"ostrya_virginiana\",\"oxydendrum_arboreum\",\n",
    "         \"paulownia_tomentosa\",\"phellodendron_amurense\",\"picea_abies\",\"picea_pungens\",\n",
    "         \"pinus_nigra\",\"platanus_occidentalis\",\"populus_tremuloides\",\"prunus_yedoensis\",\n",
    "         \"quercus_alba\",\"quercus_bicolor\",\"quercus_nigra\",\"robinia_pseudo-acacia\",\n",
    "         \"salix_babylonica\",\"salix_caroliniana\",\"salix_matsudana\",\"salix_nigra\",\n",
    "         \"sassafras_albidum\",\"tilia_cordata\",\"toona_sinensis\",\"tsuga_canadensis\",\"ulmus_glabra\",\n",
    "         \"ulmus_rubra\",\"zelkova_serrata\"]\n",
    "#on divise les donnees en 3 parties 80% pou training 10%pour test 10%pour validation\n",
    "for c in os.listdir(df):\n",
    "    if not c.startswith('.'):\n",
    "        img_num=len(os.listdir(df + '/' + c))\n",
    "        for(n,file) in enumerate(os.listdir(df + '/' +  c)):\n",
    "            img=df + '/' + c + '/' +file\n",
    "            if n<0.1*img_num:\n",
    "                shutil.copy(img,'TEST/' + c + '/' + file)\n",
    "            elif n<0.8* img_num:\n",
    "                shutil.copy(img,'TRAIN/' + c + '/' + file)"
   ]
  },
  {
   "cell_type": "code",
   "execution_count": 11,
   "id": "c9443067",
   "metadata": {},
   "outputs": [
    {
     "name": "stdout",
     "output_type": "stream",
     "text": [
      "Found 775 images belonging to 9 classes.\n"
     ]
    }
   ],
   "source": [
    "#on definit notre training data set\n",
    "image_size=224\n",
    "batch_size = 16\n",
    "batch=64\n",
    "Train='TRAIN'       \n",
    "train_datagen = ImageDataGenerator(\n",
    "        rotation_range=40,\n",
    "        width_shift_range=[-200,200],\n",
    "        height_shift_range=0.5,\n",
    "        rescale=1./255,\n",
    "        shear_range=0.2,\n",
    "        zoom_range=0.2,\n",
    "        horizontal_flip=True,\n",
    "        fill_mode='nearest')\n",
    "\n",
    "train_generator = train_datagen.flow_from_directory(\n",
    "        Train,  #ce le chemin ou on a les images\n",
    "        target_size=(image_size, image_size),  # all images will be resized to 150x150#tous les images vont avoir une de dimension de 224*224\n",
    "        batch_size=batch,\n",
    "        color_mode='grayscale',\n",
    "        class_mode='categorical'#parce qu'on a multi-classes\n",
    ")"
   ]
  },
  {
   "cell_type": "code",
   "execution_count": null,
   "id": "0eea5ef6",
   "metadata": {},
   "outputs": [],
   "source": []
  }
 ],
 "metadata": {
  "kernelspec": {
   "display_name": "Python 3 (ipykernel)",
   "language": "python",
   "name": "python3"
  },
  "language_info": {
   "codemirror_mode": {
    "name": "ipython",
    "version": 3
   },
   "file_extension": ".py",
   "mimetype": "text/x-python",
   "name": "python",
   "nbconvert_exporter": "python",
   "pygments_lexer": "ipython3",
   "version": "3.9.7"
  }
 },
 "nbformat": 4,
 "nbformat_minor": 5
}
