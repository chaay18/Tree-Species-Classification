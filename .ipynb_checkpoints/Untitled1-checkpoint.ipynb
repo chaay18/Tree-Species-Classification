{
 "cells": [
  {
   "cell_type": "code",
   "execution_count": 49,
   "id": "ee69e0af",
   "metadata": {},
   "outputs": [],
   "source": [
    "import tkinter as tk\n",
    "from tkinter import filedialog\n",
    "from tkinter import *\n",
    "from PIL import ImageTk, Image\n",
    "import numpy as np\n",
    "import os\n",
    "os.environ['TF_CPP_MIN_LOG_LEVEL'] = '2'\n",
    "import numpy\n",
    "#load the trained model to classify sign\n",
    "from keras.models import load_model\n",
    "model = load_model('model.h5')"
   ]
  },
  {
   "cell_type": "code",
   "execution_count": 50,
   "id": "f25e6fe5",
   "metadata": {},
   "outputs": [],
   "source": [
    "classes = { 1:'Cèdre de l’Atlas',\n",
    "            2:'cypres de l’Atlas',      \n",
    "            3:'figues',       \n",
    "            4:'Genévrier_leaf',      \n",
    "            5:'olivier_leaf',    \n",
    "            6:'palmiers',      \n",
    "            7:'sapin du maroc'   }"
   ]
  },
  {
   "cell_type": "code",
   "execution_count": 58,
   "id": "0a38aad1",
   "metadata": {},
   "outputs": [],
   "source": [
    "top=tk.Tk()\n",
    "top.geometry('800x600')\n",
    "top.title(\"Detecter les espèces des arbres\" )\n",
    "top.configure(background='#BEC5AD')\n",
    "\n",
    "label=Label(top,background='#BEC5AD', font=('arial',15,'bold'))\n",
    "sign_image = Label(top)\n"
   ]
  },
  {
   "cell_type": "code",
   "execution_count": 59,
   "id": "dfe9a9ea",
   "metadata": {},
   "outputs": [],
   "source": [
    "def classify(file_path):\n",
    "    global label_packed\n",
    "    image = Image.open(file_path)\n",
    "    image = image.resize((100,100))\n",
    "    image = numpy.expand_dims(image, axis=0)\n",
    "    image = numpy.array(image)\n",
    "    print(image.shape)\n",
    "    predition=model.predict(image)\n",
    "    predition=np.squeeze(predition)\n",
    "    predIndex=np.argmax(predition)\n",
    "    #pred = model.predict_classes([image])[0]\n",
    "    #classes[ predIndex+1]\n",
    "    #labels[predIndex]\n",
    "    sign = classes[predIndex]\n",
    "    print(sign)\n",
    "    label.configure(foreground='#011638', text=sign) "
   ]
  },
  {
   "cell_type": "code",
   "execution_count": 60,
   "id": "a030e883",
   "metadata": {},
   "outputs": [],
   "source": [
    "def show_classify_button(file_path):\n",
    "    classify_b=Button(top,text=\"Detecter l'arbre\",command=lambda: classify(file_path),padx=10,pady=5)\n",
    "    classify_b.configure(background='#364156', foreground='black',font=('arial',15,'bold'))\n",
    "    classify_b.place(relx=0.79,rely=0.46)"
   ]
  },
  {
   "cell_type": "code",
   "execution_count": 61,
   "id": "5d87d95f",
   "metadata": {},
   "outputs": [],
   "source": [
    "def upload_image():\n",
    "    try:\n",
    "        file_path=filedialog.askopenfilename()\n",
    "        uploaded=Image.open(file_path)\n",
    "        uploaded.thumbnail(((top.winfo_width()/2.25),(top.winfo_height()/2.25)))\n",
    "        im=ImageTk.PhotoImage(uploaded)\n",
    "        \n",
    "        sign_image.configure(image=im)\n",
    "        sign_image.image=im\n",
    "        label.configure(text='')\n",
    "        show_classify_button(file_path)\n",
    "    except:\n",
    "        pass"
   ]
  },
  {
   "cell_type": "code",
   "execution_count": 62,
   "id": "e6cae887",
   "metadata": {},
   "outputs": [],
   "source": [
    "upload=Button(top,text=\"Choisir une feuille d'arbre\",command=upload_image,padx=10,pady=5)\n",
    "upload.configure(background='#364156', foreground='black',font=('arial',15,'bold'))"
   ]
  },
  {
   "cell_type": "code",
   "execution_count": null,
   "id": "4fd1cafe",
   "metadata": {},
   "outputs": [
    {
     "name": "stdout",
     "output_type": "stream",
     "text": [
      "(1, 100, 100, 3)\n",
      "Cèdre de l’Atlas\n"
     ]
    }
   ],
   "source": [
    "upload.pack(side=BOTTOM,pady=50)\n",
    "sign_image.pack(side=BOTTOM,expand=True)\n",
    "label.pack(side=BOTTOM,expand=True)\n",
    "heading = Label(top, text=\"L’espèce de l'arbre est :\",pady=20, font=('arial',20,'bold'))\n",
    "heading.configure(background='#BEC5AD',foreground='#364156')\n",
    "heading.pack()\n",
    "top.mainloop()"
   ]
  },
  {
   "cell_type": "code",
   "execution_count": null,
   "id": "30f7e81d",
   "metadata": {},
   "outputs": [],
   "source": []
  }
 ],
 "metadata": {
  "kernelspec": {
   "display_name": "Python 3 (ipykernel)",
   "language": "python",
   "name": "python3"
  },
  "language_info": {
   "codemirror_mode": {
    "name": "ipython",
    "version": 3
   },
   "file_extension": ".py",
   "mimetype": "text/x-python",
   "name": "python",
   "nbconvert_exporter": "python",
   "pygments_lexer": "ipython3",
   "version": "3.9.7"
  }
 },
 "nbformat": 4,
 "nbformat_minor": 5
}
