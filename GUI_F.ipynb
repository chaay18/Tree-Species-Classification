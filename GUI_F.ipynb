{
 "cells": [
  {
   "cell_type": "code",
   "execution_count": 1,
   "id": "c0ecd32a",
   "metadata": {},
   "outputs": [],
   "source": [
    "import tkinter as tk\n",
    "from tkinter import filedialog\n",
    "from tkinter import *\n",
    "from PIL import ImageTk, Image\n",
    "import numpy as np\n",
    "import cv2\n",
    "import os\n",
    "os.environ['TF_CPP_MIN_LOG_LEVEL'] = '2'\n",
    "import numpy\n",
    "#on charge le modele pour detecter l'espece de l'image\n",
    "from keras.models import load_model\n",
    "model = load_model('model.h5')"
   ]
  },
  {
   "cell_type": "code",
   "execution_count": 2,
   "id": "fe5f64c8",
   "metadata": {},
   "outputs": [],
   "source": [
    "def load_data(dir_path,img_size=(100,100)):  #dir_path:le repertoire TEST ou TRAIN\n",
    " x = [] #array des images\n",
    " y = [] #array des labels\n",
    " i=0\n",
    " labels=dict()  #est un dictionnaire qui associe une clé à une valeur.\n",
    " for path in os.listdir(dir_path):\n",
    "     if not path.startswith('.'):\n",
    "            labels[i]=path\n",
    "            for file in os.listdir(dir_path+'/'+path):  #path: le nom du repertoire representant l'espece.\n",
    "                 if not file.startswith('.'):\n",
    "                        #imread: elle permet de lire une image d'un fichier\n",
    "                        img=cv2.imread(dir_path+ '/'+ path+ '/'+ file)\n",
    "                        # resize:redimensionner l'image\n",
    "                        img=cv2.resize(img,img_size)\n",
    "                        #on va ajouter l'image dans le tableau x a l'aide de la fonction append()\n",
    "                        x.append(img)\n",
    "                        #on associe chaque image au numero de son espece (i)\n",
    "                        y.append(i)\n",
    "            i+=1\n",
    " x=np.array(x,dtype=object)\n",
    " y=np.array(y)\n",
    " return x,y ,labels\n",
    "\n",
    "#Appel de la fonction\n",
    "TRAIN='TRAIN'\n",
    "TEST='TEST'\n",
    "imge_size=(100,100)\n",
    "x_train,y_train,labels=load_data(TRAIN,imge_size)\n",
    "x_test,y_test,labels=load_data(TEST,imge_size)\n",
    "x_train=x_train/255\n",
    "x_train=np.asarray(x_train).astype(np.float32)\n",
    "y_train = np.asarray(y_train).astype(np.int32)\n",
    "x_test=np.asarray(x_test).astype(np.float32)\n",
    "y_test = np.asarray(y_test).astype(np.int32)\n",
    " # nous informe sur les dimensions de l'image et le niveau de l'image (RGB)"
   ]
  },
  {
   "cell_type": "code",
   "execution_count": 3,
   "id": "59eb45a8",
   "metadata": {},
   "outputs": [],
   "source": [
    "top=tk.Tk() #on cree la fenetre de notre interface graphique\n",
    "top.geometry('800x600') #on definit les dimensions  de notre interface\n",
    "top.title(\"Detecter les espèces des arbres\" ) #le titre de l'interface\n",
    "top.configure(background='#BEC5AD') #la couleur de l'arriere plan\n",
    "label=Label(top,background='#BEC5AD', font=('arial',15,'bold')) # on definit la police et la couleur\n",
    "sign_image = Label(top)"
   ]
  },
  {
   "cell_type": "code",
   "execution_count": 4,
   "id": "ba6a6166",
   "metadata": {},
   "outputs": [],
   "source": [
    "#fonction pour classifier l'image choisi par l'utilisateur\n",
    "def classify(file_path):\n",
    "    global label_packed\n",
    "    image = Image.open(file_path)\n",
    "    image = image.resize((100,100))\n",
    "    image = numpy.array(image)\n",
    "    image=image/255.0\n",
    "    image = numpy.expand_dims(image, axis=0)\n",
    "    print(image.shape)\n",
    "    predition=model.predict(image)\n",
    "    predition=np.squeeze(predition)\n",
    "    predIndex=np.argmax(predition)\n",
    "    sign = labels[predIndex]\n",
    "    print(sign)\n",
    "    label.configure(foreground='#011638', text=sign) "
   ]
  },
  {
   "cell_type": "code",
   "execution_count": 5,
   "id": "b1296008",
   "metadata": {},
   "outputs": [],
   "source": [
    "#boutton qui permet d'appeler la fonction classify()\n",
    "def show_classify_button(file_path):\n",
    "    classify_b=Button(top,text=\"Detecter l'arbre\",command=lambda: classify(file_path),padx=10,pady=5)\n",
    "    classify_b.configure(background='#364156', foreground='black',font=('arial',15,'bold'))\n",
    "    classify_b.place(relx=0.79,rely=0.46)"
   ]
  },
  {
   "cell_type": "code",
   "execution_count": 6,
   "id": "7efba827",
   "metadata": {},
   "outputs": [],
   "source": [
    "#fonction pour charger l'image\n",
    "def upload_image():\n",
    "    try:\n",
    "        file_path=filedialog.askopenfilename()\n",
    "        uploaded=Image.open(file_path)\n",
    "        uploaded.thumbnail(((top.winfo_width()/2.25),(top.winfo_height()/2.25)))\n",
    "        im=ImageTk.PhotoImage(uploaded)\n",
    "        \n",
    "        sign_image.configure(image=im)\n",
    "        sign_image.image=im\n",
    "        label.configure(text='')\n",
    "        show_classify_button(file_path)\n",
    "    except:\n",
    "        pass"
   ]
  },
  {
   "cell_type": "code",
   "execution_count": 7,
   "id": "bcd63e1a",
   "metadata": {},
   "outputs": [],
   "source": [
    "#boutton qui permet d'appeler la fonction  upload_image()\n",
    "upload=Button(top,text=\"Choisir une image d'arbre\",command=upload_image,padx=10,pady=5)\n",
    "upload.configure(background='#364156', foreground='black',font=('arial',15,'bold'))"
   ]
  },
  {
   "cell_type": "code",
   "execution_count": null,
   "id": "72713231",
   "metadata": {},
   "outputs": [
    {
     "name": "stdout",
     "output_type": "stream",
     "text": [
      "(1, 100, 100, 3)\n",
      "Dattier\n",
      "(1, 100, 100, 3)\n",
      "Figuier\n",
      "(1, 100, 100, 3)\n",
      "Olivier\n",
      "(1, 100, 100, 3)\n",
      "figue_barbarie\n"
     ]
    }
   ],
   "source": [
    "#affiche l'espece correspondante\n",
    "upload.pack(side=BOTTOM,pady=50)\n",
    "sign_image.pack(side=BOTTOM,expand=True)\n",
    "label.pack(side=BOTTOM,expand=True)\n",
    "heading = Label(top, text=\"L’espèce de l'arbre est :\",pady=20, font=('arial',20,'bold'))\n",
    "heading.configure(background='#BEC5AD',foreground='#364156')\n",
    "heading.pack()\n",
    "top.mainloop()"
   ]
  },
  {
   "cell_type": "code",
   "execution_count": null,
   "id": "54ba1c6c",
   "metadata": {},
   "outputs": [],
   "source": []
  }
 ],
 "metadata": {
  "kernelspec": {
   "display_name": "Python 3 (ipykernel)",
   "language": "python",
   "name": "python3"
  },
  "language_info": {
   "codemirror_mode": {
    "name": "ipython",
    "version": 3
   },
   "file_extension": ".py",
   "mimetype": "text/x-python",
   "name": "python",
   "nbconvert_exporter": "python",
   "pygments_lexer": "ipython3",
   "version": "3.9.7"
  }
 },
 "nbformat": 4,
 "nbformat_minor": 5
}
